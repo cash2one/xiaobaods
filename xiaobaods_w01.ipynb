{
 "cells": [
  {
   "cell_type": "code",
   "execution_count": 74,
   "metadata": {
    "collapsed": false
   },
   "outputs": [],
   "source": [
    "#!usr/bin/env python3\n",
    "#! -*- coding: utf-8 -*-\n",
    "#xiaobaodas version_alpha_01 2017-03-13\n",
    "def xiaobaods_w01(date=\"\",category=\"牛仔裤\",length=7,SQL=\"xiaobaods\",choice=\"热搜核心词\",variable=\"排名\",fillna=\"\",debug=0,path=\"\"):\n",
    "    import time\n",
    "    time_s = time.time()\n",
    "    import sys\n",
    "    import pandas as pd\n",
    "    import datetime\n",
    "    import pymysql\n",
    "    from dateutil.parser import parse\n",
    "    SQL_msg = {\"local\":{\"host\":\"127.0.0.1\",\"port\":3306,\"user\":\"root\",\"charset\":\"utf8\",\"passwd\":\"\",\"db\":\"baoersqlbasic\"},\n",
    "               \"xiaobaods\":{\"host\":\"101.201.237.58\",\"port\":3306,\"user\":\"program_default\",\"charset\":\"utf8\",\"passwd\":\"KQPp5wwZJG33fwFs\",\"db\":\"baoersqlbasic\"}}\n",
    "    latest_date=datetime.datetime.today().date()-datetime.timedelta(1)\n",
    "    choice_list = {\"热搜修饰词\":{\"table\":\"bc_searchwords_hotwords\",\"variable\":(\"搜索人气\",\"相关搜索词数\",\"点击率\",\"点击人气\",\"支付转化率\",\"直通车参考价\")},\n",
    "                  \"热搜品牌词\":{\"table\":\"bc_searchwords_hotwords\",\"variable\":(\"搜索人气\",\"相关搜索词数\",\"点击率\",\"点击人气\",\"支付转化率\",\"直通车参考价\")},\n",
    "                  \"热搜搜索词\":{\"table\":\"bc_searchwords_hotwords\",\"variable\":(\"搜索人气\",\"商城点击占比\",\"点击率\",\"点击人气\",\"支付转化率\",\"直通车参考价\")},\n",
    "                  \"热搜核心词\":{\"table\":\"bc_searchwords_hotwords\",\"variable\":(\"搜索人气\",\"相关搜索词数\",\"点击率\",\"点击人气\",\"支付转化率\",\"直通车参考价\")},\n",
    "                  \"热搜长尾词\":{\"table\":\"bc_searchwords_hotwords\",\"variable\":(\"搜索人气\",\"商城点击占比\",\"点击率\",\"点击人气\",\"支付转化率\",\"直通车参考价\")},\n",
    "                  \"飙升修饰词\":{\"table\":\"bc_searchwords_risewords\",\n",
    "                           \"variable\":(\"相关搜索词数\",\"搜索人气\",\"词均搜索增长幅度\",\"点击人气\",\"支付转化率\",\"直通车参考价\")},\n",
    "                  \"飙升品牌词\":{\"table\":\"bc_searchwords_risewords\",\n",
    "                           \"variable\":(\"相关搜索词数\",\"搜索人气\",\"词均搜索增长幅度\",\"点击人气\",\"支付转化率\",\"直通车参考价\")},\n",
    "                  \"飙升搜索词\":{\"table\":\"bc_searchwords_risewords\",\n",
    "                           \"variable\":(\"搜索增长幅度\",\"搜索人气\",\"点击率\",\"点击人气\",\"支付转化率\",\"直通车参考价\")},\n",
    "                  \"飙升核心词\":{\"table\":\"bc_searchwords_risewords\",\n",
    "                           \"variable\":(\"相关搜索词数\",\"搜索人气\",\"词均搜索增长幅度\",\"点击人气\",\"支付转化率\",\"直通车参考价\")},\n",
    "                  \"飙升长尾词\":{\"table\":\"bc_searchwords_risewords\",\n",
    "                           \"variable\":(\"搜索增长幅度\",\"搜索人气\",\"点击率\",\"点击人气\",\"支付转化率\",\"直通车参考价\")},}\n",
    "    if category not in [\"牛仔裤\",\"打底裤\",\"休闲裤\"]:\n",
    "        category=\"牛仔裤\"\n",
    "    if length>30 or length<3:\n",
    "        length=7\n",
    "    if SQL not in SQL_msg:\n",
    "        SQL=SQL_msg[0]\n",
    "    if choice not in choice_list:\n",
    "        choice = \"热搜修饰词\"\n",
    "    if variable not in choice_list[choice][\"variable\"]:\n",
    "        variable=\"排名\"\n",
    "    if date==\"\":\n",
    "        date = latest_date\n",
    "    else:\n",
    "        date=parse(date).date()  # 修改日期格式\n",
    "    # Try to connect with the mysql and back a date which minimum.\n",
    "    try:\n",
    "        conn = pymysql.connect(host=SQL_msg[SQL][\"host\"], port=SQL_msg[SQL][\"port\"], user=SQL_msg[SQL][\"user\"],passwd=SQL_msg[SQL][\"passwd\"],\n",
    "                               charset=SQL_msg[SQL][\"charset\"], db=SQL_msg[SQL][\"db\"])\n",
    "        cursor = conn.cursor()\n",
    "        cursor.execute(\"SELECT min(`日期`),max(`日期`) from \"+choice_list[choice][\"table\"]+\" where `类目`='\"+category+\"' and `字段`='\"+choice+\"';\")\n",
    "        date_limit = cursor.fetchall()\n",
    "        date_floor = date_limit[0][0]\n",
    "        date_ceiling = date_limit[0][1] \n",
    "        cursor.close()\n",
    "        conn.close()\n",
    "    except Exception as e:\n",
    "        return e\n",
    "    if date > latest_date:\n",
    "        date = latest_date\n",
    "    if date > date_ceiling:\n",
    "        date = date_ceiling\n",
    "    if date < date_floor + datetime.timedelta(length-1):\n",
    "        date = date_floor + datetime.timedelta(length-1)\n",
    "    # Main program.\n",
    "    sql_select_f=\"SELECT CT.`排名`,CT.`搜索词`\"\n",
    "    for i in range(len(choice_list[choice][\"variable\"])):\n",
    "        sql_select_f += \",CT.`\"+choice_list[choice][\"variable\"][i]+\"`\"\n",
    "    sql_select_m=\"\"\n",
    "    for i in range(length):\n",
    "        sql_select_m += \",MAX(CASE ST.日期 WHEN \"+str(date - datetime.timedelta(length-i-1)).replace(\"-\",\"\")+\" THEN ST.\"+variable+\" ELSE NULL END) AS `日期：\"+str(date - datetime.timedelta(length-i-1)).replace(\"-\",\"\")+\"` \"\n",
    "    sql_select_e=\"FROM \"+choice_list[choice][\"table\"]+\" AS CT LEFT JOIN \"+choice_list[choice][\"table\"]+\" AS ST ON CT.搜索词 = ST.搜索词 WHERE CT.`日期` = \"+str(date).replace(\"-\",\"\")+\" AND CT.类目 = '\"+category+\"' AND CT.字段='\"+choice+\"' AND ST.字段='\"+choice+\"' AND ST.日期 >= \"+str(date - datetime.timedelta(length)).replace(\"-\",\"\")+\" AND ST.类目 = '\"+category+\"' GROUP BY CT.`\"+variable+\"` ORDER BY CT.`排名`;\"\n",
    "    # read msg from Mysql\n",
    "    conn = pymysql.connect(host=SQL_msg[SQL][\"host\"], port=SQL_msg[SQL][\"port\"], user=SQL_msg[SQL][\"user\"], passwd=SQL_msg[SQL][\"passwd\"], charset=SQL_msg[SQL][\"charset\"], db=SQL_msg[SQL][\"db\"])\n",
    "    df = pd.io.sql.read_sql_query(sql_select_f+sql_select_m+sql_select_e,conn)\n",
    "    conn.close()\n",
    "    df = df.fillna(fillna)\n",
    "    if debug not in [8,9]:\n",
    "        print(df.to_json(orient=\"index\"))\n",
    "    elif debug== 8:\n",
    "        print (\"- Running time：%.4f s\"%(time.time()-time_s))\n",
    "        return df\n",
    "    elif debug==9:\n",
    "        import os\n",
    "        print (\"- Running time：%.4f s\"%(time.time()-time_s))\n",
    "        path_default=os.path.join(os.path.expanduser(\"~\"), 'Desktop')\n",
    "        if not os.path.isdir(path):\n",
    "            path = path_default\n",
    "        csv_filename=\"【数据组】[\"+choice_list[choice][\"table\"].split(\"_\")[-1]+\"_\"+category+\"_\"+choice+\"]\"+variable+\"_\"+datetime.datetime.strftime(date,\"%m%d\")+\"-\"+str(length)+\"_\"+SQL+\".csv\"\n",
    "        try:\n",
    "            df.to_csv(path+\"\\\\\"+csv_filename)\n",
    "            print(\"> 输出CSV文件：\",path,\",\",csv_filename)\n",
    "        except Exception as e:\n",
    "            print(\"> 输出CSV文件失败，错误原因：\",e)\n",
    "    if __name__ == \"__main__\":\n",
    "        try:\n",
    "            argv = sys.argv[1]\n",
    "            argv = eval(argv)\n",
    "        except:\n",
    "            argv ={}"
   ]
  },
  {
   "cell_type": "code",
   "execution_count": 79,
   "metadata": {
    "collapsed": false,
    "scrolled": false
   },
   "outputs": [
    {
     "name": "stdout",
     "output_type": "stream",
     "text": [
      "- Running time：0.2792 s\n",
      "> 输出CSV文件： C:\\Users\\Administrator\\Desktop , 【数据组】[hotwords_牛仔裤_热搜核心词]排名_0316-30_xiaobaods.csv\n"
     ]
    }
   ],
   "source": [
    "xiaobaods_w01(debug=9,length=30,fillna=600)"
   ]
  },
  {
   "cell_type": "code",
   "execution_count": null,
   "metadata": {
    "collapsed": true
   },
   "outputs": [],
   "source": []
  }
 ],
 "metadata": {
  "kernelspec": {
   "display_name": "Python 3",
   "language": "python",
   "name": "python3"
  },
  "language_info": {
   "codemirror_mode": {
    "name": "ipython",
    "version": 3
   },
   "file_extension": ".py",
   "mimetype": "text/x-python",
   "name": "python",
   "nbconvert_exporter": "python",
   "pygments_lexer": "ipython3",
   "version": "3.6.0"
  }
 },
 "nbformat": 4,
 "nbformat_minor": 2
}
